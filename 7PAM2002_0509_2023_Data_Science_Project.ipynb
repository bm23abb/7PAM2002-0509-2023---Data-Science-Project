{
  "nbformat": 4,
  "nbformat_minor": 0,
  "metadata": {
    "colab": {
      "provenance": [],
      "authorship_tag": "ABX9TyNoX6rmdgr0DL1WF4jdQ89J",
      "include_colab_link": true
    },
    "kernelspec": {
      "name": "python3",
      "display_name": "Python 3"
    },
    "language_info": {
      "name": "python"
    }
  },
  "cells": [
    {
      "cell_type": "markdown",
      "metadata": {
        "id": "view-in-github",
        "colab_type": "text"
      },
      "source": [
        "<a href=\"https://colab.research.google.com/github/bm23abb/7PAM2002-0509-2023---Data-Science-Project/blob/main/7PAM2002_0509_2023_Data_Science_Project.ipynb\" target=\"_parent\"><img src=\"https://colab.research.google.com/assets/colab-badge.svg\" alt=\"Open In Colab\"/></a>"
      ]
    },
    {
      "cell_type": "code",
      "execution_count": 1,
      "metadata": {
        "colab": {
          "base_uri": "https://localhost:8080/"
        },
        "id": "cQ4HRUy2FTcJ",
        "outputId": "36474f44-0fc7-4ded-e6b1-d96f8714184f"
      },
      "outputs": [
        {
          "output_type": "stream",
          "name": "stdout",
          "text": [
            "Mounted at /content/drive\n"
          ]
        }
      ],
      "source": [
        "from google.colab import drive\n",
        "drive.mount('/content/drive')"
      ]
    },
    {
      "cell_type": "code",
      "source": [
        "import pandas as pd\n",
        "import numpy as np\n",
        "import matplotlib.pyplot as plt\n",
        "from sklearn.preprocessing import MinMaxScaler\n",
        "from tensorflow.keras.models import Sequential\n",
        "from tensorflow.keras.layers import Dense, LSTM\n",
        "from statsmodels.tsa.arima.model import ARIMA\n",
        "from sklearn.linear_model import BayesianRidge"
      ],
      "metadata": {
        "id": "U6c293pQF6Uq"
      },
      "execution_count": 7,
      "outputs": []
    },
    {
      "cell_type": "code",
      "source": [
        "file_path = '/content/drive/MyDrive/7PAM2002-0509-2023-Data-Science-Project/Data-Science-Project/Bitcoin.csv'\n",
        "data_frame = pd.read_csv(file_path)"
      ],
      "metadata": {
        "id": "86stadsaHycm"
      },
      "execution_count": 19,
      "outputs": []
    },
    {
      "cell_type": "code",
      "source": [
        "print(\"First few rows of the dataset:\")\n",
        "print(data_frame.head())"
      ],
      "metadata": {
        "colab": {
          "base_uri": "https://localhost:8080/"
        },
        "id": "SpVjhraWMW8e",
        "outputId": "659d410e-a88e-4ce0-f1e1-986d7f5a3506"
      },
      "execution_count": 21,
      "outputs": [
        {
          "output_type": "stream",
          "name": "stdout",
          "text": [
            "First few rows of the dataset:\n",
            "                  Open        High         Low       Close   Adj Close  \\\n",
            "Date                                                                     \n",
            "2014-09-17  465.864014  468.174011  452.421997  457.334015  457.334015   \n",
            "2014-09-18  456.859985  456.859985  413.104004  424.440002  424.440002   \n",
            "2014-09-19  424.102997  427.834991  384.532013  394.795990  394.795990   \n",
            "2014-09-20  394.673004  423.295990  389.882996  408.903992  408.903992   \n",
            "2014-09-21  408.084991  412.425995  393.181000  398.821014  398.821014   \n",
            "\n",
            "              Volume  Year  Month  Day  DayOfWeek  \n",
            "Date                                               \n",
            "2014-09-17  21056800  2014      9   17          2  \n",
            "2014-09-18  34483200  2014      9   18          3  \n",
            "2014-09-19  37919700  2014      9   19          4  \n",
            "2014-09-20  36863600  2014      9   20          5  \n",
            "2014-09-21  26580100  2014      9   21          6  \n"
          ]
        }
      ]
    },
    {
      "cell_type": "code",
      "source": [
        "data_frame['Date'] = pd.to_datetime(data_frame['Date'])\n",
        "data_frame.set_index('Date', inplace = True)\n",
        "data_frame = data_frame.sort_values('Date')\n",
        "\n",
        "data_frame = data_frame.fillna(method = 'ffill')\n",
        "\n",
        "data_frame['Year'] = data_frame.index.year\n",
        "data_frame['Month'] = data_frame.index.month\n",
        "data_frame['Day'] = data_frame.index.day\n",
        "data_frame['DayOfWeek'] = data_frame.index.dayofweek\n",
        "\n",
        "pforp = data_frame['Close'].values.reshape(-1,1)"
      ],
      "metadata": {
        "id": "L9N1XlPeIX8-"
      },
      "execution_count": 20,
      "outputs": []
    },
    {
      "cell_type": "code",
      "source": [
        "normalize = MinMaxScaler(feature_range=(0 ,1))\n",
        "normalize_price = normalize.fit_transform(pforp)"
      ],
      "metadata": {
        "id": "GbaP4_X1OujE"
      },
      "execution_count": 22,
      "outputs": []
    }
  ]
}