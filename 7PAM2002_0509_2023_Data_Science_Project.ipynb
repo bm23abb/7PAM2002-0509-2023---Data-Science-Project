{
  "nbformat": 4,
  "nbformat_minor": 0,
  "metadata": {
    "colab": {
      "provenance": [],
      "gpuType": "T4",
      "authorship_tag": "ABX9TyPDMwIPejmNkOSLVf+tnbvz",
      "include_colab_link": true
    },
    "kernelspec": {
      "name": "python3",
      "display_name": "Python 3"
    },
    "language_info": {
      "name": "python"
    },
    "accelerator": "GPU"
  },
  "cells": [
    {
      "cell_type": "markdown",
      "metadata": {
        "id": "view-in-github",
        "colab_type": "text"
      },
      "source": [
        "<a href=\"https://colab.research.google.com/github/bm23abb/7PAM2002-0509-2023---Data-Science-Project/blob/main/7PAM2002_0509_2023_Data_Science_Project.ipynb\" target=\"_parent\"><img src=\"https://colab.research.google.com/assets/colab-badge.svg\" alt=\"Open In Colab\"/></a>"
      ]
    },
    {
      "cell_type": "markdown",
      "source": [
        "**MOUNTING GOOGLE DRIVE**"
      ],
      "metadata": {
        "id": "h5wSe4t3hxPX"
      }
    },
    {
      "cell_type": "code",
      "execution_count": 1,
      "metadata": {
        "colab": {
          "base_uri": "https://localhost:8080/"
        },
        "id": "cQ4HRUy2FTcJ",
        "outputId": "727515df-ff02-4d58-9d6a-1b494e908dcf"
      },
      "outputs": [
        {
          "output_type": "stream",
          "name": "stdout",
          "text": [
            "Mounted at /content/drive\n"
          ]
        }
      ],
      "source": [
        "from google.colab import drive\n",
        "drive.mount('/content/drive')"
      ]
    },
    {
      "cell_type": "markdown",
      "source": [
        "**IMPORTING LIBRARIES**"
      ],
      "metadata": {
        "id": "A1evSL7ZiEM1"
      }
    },
    {
      "cell_type": "code",
      "source": [
        "import pandas as pd\n",
        "import numpy as np\n",
        "import matplotlib.pyplot as plt\n",
        "from sklearn.preprocessing import MinMaxScaler\n",
        "from tensorflow.keras.models import Sequential\n",
        "from tensorflow.keras.layers import Dense, LSTM\n",
        "from statsmodels.tsa.arima.model import ARIMA\n",
        "from sklearn.linear_model import BayesianRidge\n",
        "from tabulate import tabulate"
      ],
      "metadata": {
        "id": "pp0jNckustAh"
      },
      "execution_count": 2,
      "outputs": []
    },
    {
      "cell_type": "markdown",
      "source": [
        "**LOADING DATASET**"
      ],
      "metadata": {
        "id": "rX_iMVEIiPSu"
      }
    },
    {
      "cell_type": "code",
      "source": [
        "file_path = '/content/drive/MyDrive/7PAM2002-0509-2023-Data-Science-Project/Data-Science-Project/Bitcoin.csv'\n",
        "data_frame = pd.read_csv(file_path)\n",
        "print(\"Last few rows of the dataset:\")\n",
        "print(tabulate(data_frame.tail(), headers='keys', tablefmt='grid'))"
      ],
      "metadata": {
        "colab": {
          "base_uri": "https://localhost:8080/"
        },
        "id": "86stadsaHycm",
        "outputId": "bb55de9b-a9d3-464a-c6dc-eef38089ecdb"
      },
      "execution_count": 16,
      "outputs": [
        {
          "output_type": "stream",
          "name": "stdout",
          "text": [
            "Last few rows of the dataset:\n",
            "+------+------------+---------+---------+---------+---------+-------------+-------------+\n",
            "|      | Date       |    Open |    High |     Low |   Close |   Adj Close |      Volume |\n",
            "+======+============+=========+=========+=========+=========+=============+=============+\n",
            "| 2678 | 2022-01-16 | 43172   | 43436.8 | 42691   | 43113.9 |     43113.9 | 17902097845 |\n",
            "+------+------------+---------+---------+---------+---------+-------------+-------------+\n",
            "| 2679 | 2022-01-17 | 43118.1 | 43179.4 | 41680.3 | 42250.6 |     42250.6 | 21690904261 |\n",
            "+------+------------+---------+---------+---------+---------+-------------+-------------+\n",
            "| 2680 | 2022-01-18 | 42250.1 | 42534.4 | 41392.2 | 42375.6 |     42375.6 | 22417209227 |\n",
            "+------+------------+---------+---------+---------+---------+-------------+-------------+\n",
            "| 2681 | 2022-01-19 | 42374   | 42478.3 | 41242.9 | 41744.3 |     41744.3 | 23091543258 |\n",
            "+------+------------+---------+---------+---------+---------+-------------+-------------+\n",
            "| 2682 | 2022-01-20 | 41736.5 | 42034.7 | 41724.5 | 41933.5 |     41933.5 | 23457787904 |\n",
            "+------+------------+---------+---------+---------+---------+-------------+-------------+\n"
          ]
        }
      ]
    },
    {
      "cell_type": "markdown",
      "source": [
        "**PREPROCESSING THE DATA**"
      ],
      "metadata": {
        "id": "QV2nD1CeiYz6"
      }
    },
    {
      "cell_type": "code",
      "source": [
        "data_frame['Date'] = pd.to_datetime(data_frame['Date'])\n",
        "data_frame.set_index('Date', inplace=True)\n",
        "data_frame = data_frame.sort_values('Date')\n",
        "data_frame = data_frame.fillna(method='ffill')\n",
        "data_frame['Year'] = data_frame.index.year\n",
        "data_frame['Month'] = data_frame.index.month\n",
        "data_frame['Day'] = data_frame.index.day\n",
        "data_frame['DayOfWeek'] = data_frame.index.dayofweek"
      ],
      "metadata": {
        "id": "L9N1XlPeIX8-"
      },
      "execution_count": 4,
      "outputs": []
    },
    {
      "cell_type": "markdown",
      "source": [
        "**PREPARING CLOSE PRICE**"
      ],
      "metadata": {
        "id": "RhO35AyKih1o"
      }
    },
    {
      "cell_type": "code",
      "source": [
        "pforp = data_frame['Close'].values.reshape(-1,1)\n",
        "print(\"Last few rows of the preprocessed dataset:\")\n",
        "print(tabulate(data_frame.tail(), headers='keys', tablefmt='grid'))"
      ],
      "metadata": {
        "colab": {
          "base_uri": "https://localhost:8080/"
        },
        "id": "BqTE4y2LgAtN",
        "outputId": "cb77eb76-5473-4dae-a821-af890fc0e801"
      },
      "execution_count": 15,
      "outputs": [
        {
          "output_type": "stream",
          "name": "stdout",
          "text": [
            "Last few rows of the preprocessed dataset:\n",
            "+---------------------+---------+---------+---------+---------+-------------+-------------+--------+---------+-------+-------------+\n",
            "| Date                |    Open |    High |     Low |   Close |   Adj Close |      Volume |   Year |   Month |   Day |   DayOfWeek |\n",
            "+=====================+=========+=========+=========+=========+=============+=============+========+=========+=======+=============+\n",
            "| 2022-01-16 00:00:00 | 43172   | 43436.8 | 42691   | 43113.9 |     43113.9 | 1.79021e+10 |   2022 |       1 |    16 |           6 |\n",
            "+---------------------+---------+---------+---------+---------+-------------+-------------+--------+---------+-------+-------------+\n",
            "| 2022-01-17 00:00:00 | 43118.1 | 43179.4 | 41680.3 | 42250.6 |     42250.6 | 2.16909e+10 |   2022 |       1 |    17 |           0 |\n",
            "+---------------------+---------+---------+---------+---------+-------------+-------------+--------+---------+-------+-------------+\n",
            "| 2022-01-18 00:00:00 | 42250.1 | 42534.4 | 41392.2 | 42375.6 |     42375.6 | 2.24172e+10 |   2022 |       1 |    18 |           1 |\n",
            "+---------------------+---------+---------+---------+---------+-------------+-------------+--------+---------+-------+-------------+\n",
            "| 2022-01-19 00:00:00 | 42374   | 42478.3 | 41242.9 | 41744.3 |     41744.3 | 2.30915e+10 |   2022 |       1 |    19 |           2 |\n",
            "+---------------------+---------+---------+---------+---------+-------------+-------------+--------+---------+-------+-------------+\n",
            "| 2022-01-20 00:00:00 | 41736.5 | 42034.7 | 41724.5 | 41933.5 |     41933.5 | 2.34578e+10 |   2022 |       1 |    20 |           3 |\n",
            "+---------------------+---------+---------+---------+---------+-------------+-------------+--------+---------+-------+-------------+\n"
          ]
        }
      ]
    },
    {
      "cell_type": "markdown",
      "source": [
        "**NORMALIZING THE CLOSE PRICE**"
      ],
      "metadata": {
        "id": "BgmfqbuRisP8"
      }
    },
    {
      "cell_type": "code",
      "source": [
        "normalize = MinMaxScaler(feature_range=(0 ,1))\n",
        "normalize_price = normalize.fit_transform(pforp)\n",
        "n_p_df = pd.DataFrame(normalize_price, columns=['Normalize close'])\n",
        "print(\"Last few rows of Min-Max Normalize prices:\")\n",
        "print(tabulate(n_p_df.head(), headers='keys', tablefmt=\"grid\"))"
      ],
      "metadata": {
        "colab": {
          "base_uri": "https://localhost:8080/"
        },
        "id": "suV_Tw-Ldgj4",
        "outputId": "e626b112-5393-4611-aebd-7000b7c6423f"
      },
      "execution_count": 17,
      "outputs": [
        {
          "output_type": "stream",
          "name": "stdout",
          "text": [
            "Last few rows of Min-Max Normalize prices:\n",
            "+----+-------------------+\n",
            "|    |   Normalize close |\n",
            "+====+===================+\n",
            "|  0 |        0.00414359 |\n",
            "+----+-------------------+\n",
            "|  1 |        0.00365546 |\n",
            "+----+-------------------+\n",
            "|  2 |        0.00321557 |\n",
            "+----+-------------------+\n",
            "|  3 |        0.00342492 |\n",
            "+----+-------------------+\n",
            "|  4 |        0.0032753  |\n",
            "+----+-------------------+\n"
          ]
        }
      ]
    },
    {
      "cell_type": "markdown",
      "source": [
        "**CREATING THE DATASET FOR LSTM**"
      ],
      "metadata": {
        "id": "4a7KqBctizpz"
      }
    },
    {
      "cell_type": "code",
      "source": [
        "def create_datset(dataset, look_back=60):\n",
        "  x, y = [], []\n",
        "  for i in range(len(dataset) - look_back - 1):\n",
        "    a = dataset[i:(i + look_back), 0]\n",
        "    x.append(a)\n",
        "    y.append(dataset[i + look_back, 0])\n",
        "  return np.array(x), np.array(y)"
      ],
      "metadata": {
        "id": "4BSwW8ALnUME"
      },
      "execution_count": 7,
      "outputs": []
    },
    {
      "cell_type": "markdown",
      "source": [
        "**PREPARING TRAINING AND TESTING**"
      ],
      "metadata": {
        "id": "zTknd0Y5jCka"
      }
    },
    {
      "cell_type": "code",
      "source": [
        "look_back = 60\n",
        "x, y = create_datset(normalize_price, look_back)\n",
        "train_size = int(len(x) * 0.8)\n",
        "x_train, x_test = x[:train_size], x[train_size:]\n",
        "y_train, y_test = y[:train_size], y[train_size:]\n",
        "x_train = np.reshape(x_train, (x_train.shape[0], x_train.shape[1], 1))\n",
        "x_test = np.reshape(x_test, (x_test.shape[0], x_test.shape[1], 1))"
      ],
      "metadata": {
        "id": "znRKW--ZjAZL"
      },
      "execution_count": 8,
      "outputs": []
    },
    {
      "cell_type": "markdown",
      "source": [
        "**BUILDING AND RAINING THE LSTM MODEL**"
      ],
      "metadata": {
        "id": "_DV908UnjQao"
      }
    },
    {
      "cell_type": "code",
      "source": [
        "model = Sequential()\n",
        "model.add(LSTM(50, return_sequences = True, input_shape=(look_back, 1)))\n",
        "model.add(LSTM(50, return_sequences = False))\n",
        "model.add(Dense(25))\n",
        "model.add(Dense(1))\n",
        "model.compile(optimizer='adam', loss='mean_squared_error')\n",
        "model.fit(x_train, y_train, batch_size=1, epochs=1)"
      ],
      "metadata": {
        "colab": {
          "base_uri": "https://localhost:8080/"
        },
        "id": "tAHYmC_Bq-Zo",
        "outputId": "253ccdda-cf26-44ed-bfca-93ac7dd6968b"
      },
      "execution_count": 9,
      "outputs": [
        {
          "output_type": "stream",
          "name": "stdout",
          "text": [
            "2097/2097 [==============================] - 23s 8ms/step - loss: 1.6233e-04\n"
          ]
        },
        {
          "output_type": "execute_result",
          "data": {
            "text/plain": [
              "<keras.src.callbacks.History at 0x78cd285230d0>"
            ]
          },
          "metadata": {},
          "execution_count": 9
        }
      ]
    },
    {
      "cell_type": "markdown",
      "source": [
        "**PREDICTIONS IN LSTM**"
      ],
      "metadata": {
        "id": "Jg9KUa89jXzD"
      }
    },
    {
      "cell_type": "code",
      "source": [
        "future_date = 7\n",
        "future_input = normalize_price[-look_back:]\n",
        "future_predict_lstm = []\n",
        "for _ in range(future_date):\n",
        "    future_input_reshaped = np.reshape(future_input, (1, look_back, 1))\n",
        "    future_predict = model.predict(future_input_reshaped)\n",
        "    future_predict_lstm.append(future_predict[0, 0])\n",
        "    future_input = np.append(future_input[1:], future_predict)\n",
        "\n",
        "future_predict_lstm = normalize.inverse_transform(np.array(future_predict_lstm).reshape(-1, 1))\n",
        "future_dates = pd.date_range(start=data_frame.index[-1] + pd.DateOffset(days=1), periods=future_date, freq='D')\n",
        "lstm_predict_df = pd.DataFrame({\n",
        "        'Date': future_dates,\n",
        "        'LSTM_Prediction': future_predict_lstm.flatten()\n",
        "    })\n",
        "print(\"LSTM Predictions for the next '7' days:\")\n",
        "print(tabulate(lstm_predict_df, headers='keys', tablefmt='grid'))"
      ],
      "metadata": {
        "colab": {
          "base_uri": "https://localhost:8080/"
        },
        "id": "cGKbfeMNs5bH",
        "outputId": "90332d31-d999-4711-da3f-b2b735f761ea"
      },
      "execution_count": 28,
      "outputs": [
        {
          "output_type": "stream",
          "name": "stdout",
          "text": [
            "1/1 [==============================] - 0s 30ms/step\n",
            "1/1 [==============================] - 0s 30ms/step\n",
            "1/1 [==============================] - 0s 49ms/step\n",
            "1/1 [==============================] - 0s 37ms/step\n",
            "1/1 [==============================] - 0s 40ms/step\n",
            "1/1 [==============================] - 0s 37ms/step\n",
            "1/1 [==============================] - 0s 30ms/step\n",
            "LSTM Predictions for the next '7' days:\n",
            "+----+---------------------+-------------------+\n",
            "|    | Date                |   LSTM_Prediction |\n",
            "+====+=====================+===================+\n",
            "|  0 | 2022-01-21 00:00:00 |           38832.8 |\n",
            "+----+---------------------+-------------------+\n",
            "|  1 | 2022-01-22 00:00:00 |           37806.9 |\n",
            "+----+---------------------+-------------------+\n",
            "|  2 | 2022-01-23 00:00:00 |           36500.7 |\n",
            "+----+---------------------+-------------------+\n",
            "|  3 | 2022-01-24 00:00:00 |           35083.6 |\n",
            "+----+---------------------+-------------------+\n",
            "|  4 | 2022-01-25 00:00:00 |           33646.6 |\n",
            "+----+---------------------+-------------------+\n",
            "|  5 | 2022-01-26 00:00:00 |           32245.4 |\n",
            "+----+---------------------+-------------------+\n",
            "|  6 | 2022-01-27 00:00:00 |           30917.6 |\n",
            "+----+---------------------+-------------------+\n"
          ]
        }
      ]
    },
    {
      "cell_type": "markdown",
      "source": [
        "**PREDICTIONS IN ARIMA**"
      ],
      "metadata": {
        "id": "kRBF4iNMj0vu"
      }
    },
    {
      "cell_type": "code",
      "source": [
        "arima_model = ARIMA(pforp, order=(5, 1, 0))\n",
        "arima_result = arima_model.fit()\n",
        "arima_forecast = arima_result.forecast(steps=future_date).reshape(-1, 1)\n",
        "arima_predict_df = pd.DataFrame({\n",
        "        'Date': future_dates,\n",
        "         'ARIMA_Predictions':arima_forecast.flatten()\n",
        "    })\n",
        "print(\"ARIMA Predictions for the next '7' days:\")\n",
        "print(tabulate(arima_predict_df, headers='keys', tablefmt='grid'))"
      ],
      "metadata": {
        "colab": {
          "base_uri": "https://localhost:8080/"
        },
        "id": "zjcG2yKH98bN",
        "outputId": "7fe0307a-2d4e-41e0-cf85-471368c70881"
      },
      "execution_count": 29,
      "outputs": [
        {
          "output_type": "stream",
          "name": "stdout",
          "text": [
            "ARIMA Predictions for the next '7' days:\n",
            "+----+---------------------+---------------------+\n",
            "|    | Date                |   ARIMA_Predictions |\n",
            "+====+=====================+=====================+\n",
            "|  0 | 2022-01-21 00:00:00 |             41880.9 |\n",
            "+----+---------------------+---------------------+\n",
            "|  1 | 2022-01-22 00:00:00 |             41861.5 |\n",
            "+----+---------------------+---------------------+\n",
            "|  2 | 2022-01-23 00:00:00 |             41835.8 |\n",
            "+----+---------------------+---------------------+\n",
            "|  3 | 2022-01-24 00:00:00 |             41829.3 |\n",
            "+----+---------------------+---------------------+\n",
            "|  4 | 2022-01-25 00:00:00 |             41831.4 |\n",
            "+----+---------------------+---------------------+\n",
            "|  5 | 2022-01-26 00:00:00 |             41828.7 |\n",
            "+----+---------------------+---------------------+\n",
            "|  6 | 2022-01-27 00:00:00 |             41827   |\n",
            "+----+---------------------+---------------------+\n"
          ]
        }
      ]
    },
    {
      "cell_type": "markdown",
      "source": [
        "**PREDICTIONS IN BAYESIAN RIDGE**"
      ],
      "metadata": {
        "id": "BC_e42uhjypr"
      }
    },
    {
      "cell_type": "code",
      "source": [
        "bayesian_model = BayesianRidge()\n",
        "bayesian_model.fit(np.arange(len(pforp)).reshape(-1, 1), pforp.flatten())\n",
        "future_in = np.arange(len(pforp), len(pforp) + future_date).reshape(-1, 1)\n",
        "bayesian_forcest = bayesian_model.predict(future_in).reshape(-1, 1)\n",
        "bayesian_predict_df = pd.DataFrame({\n",
        "        'Date': future_dates,\n",
        "        'BayesianRidge_Prediction': bayesian_forcest.flatten()\n",
        "    })\n",
        "print(\"BayesianRidge Predictions for the next '7' days:\")\n",
        "print(tabulate(bayesian_predict_df, headers='keys', tablefmt='grid'))"
      ],
      "metadata": {
        "colab": {
          "base_uri": "https://localhost:8080/"
        },
        "id": "VedQSimYHTEd",
        "outputId": "a0fa786e-68a7-4888-ddd2-4d3dba40d678"
      },
      "execution_count": 30,
      "outputs": [
        {
          "output_type": "stream",
          "name": "stdout",
          "text": [
            "BayesianRidge Predictions for the next '7' days:\n",
            "+----+---------------------+----------------------------+\n",
            "|    | Date                |   BayesianRidge_Prediction |\n",
            "+====+=====================+============================+\n",
            "|  0 | 2022-01-21 00:00:00 |                    31708.9 |\n",
            "+----+---------------------+----------------------------+\n",
            "|  1 | 2022-01-22 00:00:00 |                    31724.3 |\n",
            "+----+---------------------+----------------------------+\n",
            "|  2 | 2022-01-23 00:00:00 |                    31739.7 |\n",
            "+----+---------------------+----------------------------+\n",
            "|  3 | 2022-01-24 00:00:00 |                    31755.2 |\n",
            "+----+---------------------+----------------------------+\n",
            "|  4 | 2022-01-25 00:00:00 |                    31770.6 |\n",
            "+----+---------------------+----------------------------+\n",
            "|  5 | 2022-01-26 00:00:00 |                    31786   |\n",
            "+----+---------------------+----------------------------+\n",
            "|  6 | 2022-01-27 00:00:00 |                    31801.5 |\n",
            "+----+---------------------+----------------------------+\n"
          ]
        }
      ]
    },
    {
      "cell_type": "code",
      "source": [
        "combined_df = pd.concat([bayesian_predict_df, arima_predict_df['ARIMA_Predictions'], lstm_predict_df['LSTM_Prediction']], axis=1)\n",
        "combined_df.columns = ['Date', 'BayesianRidge_Prediction', 'ARIMA_Predictions', 'LSTM_Predictions']\n",
        "print(tabulate(combined_df, headers='keys', tablefmt='grid'))"
      ],
      "metadata": {
        "colab": {
          "base_uri": "https://localhost:8080/"
        },
        "id": "U69jF65swUBb",
        "outputId": "386f7dd9-ae8a-4fc8-c82c-d95e7fb9639c"
      },
      "execution_count": 41,
      "outputs": [
        {
          "output_type": "stream",
          "name": "stdout",
          "text": [
            "+----+---------------------+----------------------------+---------------------+--------------------+\n",
            "|    | Date                |   BayesianRidge_Prediction |   ARIMA_Predictions |   LSTM_Predictions |\n",
            "+====+=====================+============================+=====================+====================+\n",
            "|  0 | 2022-01-21 00:00:00 |                    31708.9 |             41880.9 |            38832.8 |\n",
            "+----+---------------------+----------------------------+---------------------+--------------------+\n",
            "|  1 | 2022-01-22 00:00:00 |                    31724.3 |             41861.5 |            37806.9 |\n",
            "+----+---------------------+----------------------------+---------------------+--------------------+\n",
            "|  2 | 2022-01-23 00:00:00 |                    31739.7 |             41835.8 |            36500.7 |\n",
            "+----+---------------------+----------------------------+---------------------+--------------------+\n",
            "|  3 | 2022-01-24 00:00:00 |                    31755.2 |             41829.3 |            35083.6 |\n",
            "+----+---------------------+----------------------------+---------------------+--------------------+\n",
            "|  4 | 2022-01-25 00:00:00 |                    31770.6 |             41831.4 |            33646.6 |\n",
            "+----+---------------------+----------------------------+---------------------+--------------------+\n",
            "|  5 | 2022-01-26 00:00:00 |                    31786   |             41828.7 |            32245.4 |\n",
            "+----+---------------------+----------------------------+---------------------+--------------------+\n",
            "|  6 | 2022-01-27 00:00:00 |                    31801.5 |             41827   |            30917.6 |\n",
            "+----+---------------------+----------------------------+---------------------+--------------------+\n"
          ]
        }
      ]
    },
    {
      "cell_type": "markdown",
      "source": [
        "**BAR PLOTS FOR PREDICTIONS**"
      ],
      "metadata": {
        "id": "HSD9esDEjyCI"
      }
    },
    {
      "cell_type": "code",
      "source": [
        "plt.figure(figsize=(14, 7))\n",
        "bar_width = 0.25\n",
        "index = np.arange(len(future_dates))\n",
        "plt.bar(index, future_predict_lstm.flatten(), bar_width, label='LSTM Predictions')\n",
        "plt.bar(index + bar_width, arima_forecast.flatten(), bar_width, label='ARIMA Predictions')\n",
        "plt.bar(index + 2 * bar_width, bayesian_forcest.flatten(), bar_width, label='Bayesian Ridge Predictions')\n",
        "plt.xlabel('Date')\n",
        "plt.ylabel('Bitcoin Price')\n",
        "plt.title('Bitcoin Price Predictions for the Next 7 Days')\n",
        "plt.xticks(index + bar_width, future_dates.strftime('%Y-%m-%d'), rotation=45)\n",
        "plt.legend()\n",
        "plt.tight_layout()\n",
        "plt.show()"
      ],
      "metadata": {
        "colab": {
          "base_uri": "https://localhost:8080/",
          "height": 707
        },
        "id": "qbbDkcdDKp0S",
        "outputId": "21564a09-fc39-42ec-dba4-90f996a1a9c2"
      },
      "execution_count": 13,
      "outputs": [
        {
          "output_type": "display_data",
          "data": {
            "text/plain": [
              "<Figure size 1400x700 with 1 Axes>"
            ],
            "image/png": "[encoded data removed]"
          },
          "metadata": {}
        }
      ]
    }
  ]
}