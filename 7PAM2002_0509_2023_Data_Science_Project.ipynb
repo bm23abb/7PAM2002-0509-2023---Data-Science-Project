{
  "nbformat": 4,
  "nbformat_minor": 0,
  "metadata": {
    "colab": {
      "provenance": [],
      "authorship_tag": "ABX9TyPPeMaDzksGYj/qmnU1mQ7q",
      "include_colab_link": true
    },
    "kernelspec": {
      "name": "python3",
      "display_name": "Python 3"
    },
    "language_info": {
      "name": "python"
    }
  },
  "cells": [
    {
      "cell_type": "markdown",
      "metadata": {
        "id": "view-in-github",
        "colab_type": "text"
      },
      "source": [
        "<a href=\"https://colab.research.google.com/github/bm23abb/7PAM2002-0509-2023---Data-Science-Project/blob/main/7PAM2002_0509_2023_Data_Science_Project.ipynb\" target=\"_parent\"><img src=\"https://colab.research.google.com/assets/colab-badge.svg\" alt=\"Open In Colab\"/></a>"
      ]
    },
    {
      "cell_type": "code",
      "execution_count": 1,
      "metadata": {
        "colab": {
          "base_uri": "https://localhost:8080/"
        },
        "id": "cQ4HRUy2FTcJ",
        "outputId": "adeb7390-940a-4ea6-a249-3587eacb705b"
      },
      "outputs": [
        {
          "output_type": "stream",
          "name": "stdout",
          "text": [
            "Mounted at /content/drive\n"
          ]
        }
      ],
      "source": [
        "from google.colab import drive\n",
        "drive.mount('/content/drive')"
      ]
    },
    {
      "cell_type": "code",
      "source": [
        "import pandas as pd\n",
        "import numpy as np\n",
        "import matplotlib.pyplot as plt\n",
        "from sklearn.preprocessing import MinMaxScaler\n",
        "from tensorflow.keras.models import Sequential\n",
        "from tensorflow.keras.layers import Dense, LSTM\n",
        "from statsmodels.tsa.arima.model import ARIMA\n",
        "from sklearn.linear_model import BayesianRidge\n",
        "from tabulate import tabulate"
      ],
      "metadata": {
        "id": "U6c293pQF6Uq"
      },
      "execution_count": 6,
      "outputs": []
    },
    {
      "cell_type": "code",
      "source": [
        "file_path = '/content/drive/MyDrive/7PAM2002-0509-2023-Data-Science-Project/Data-Science-Project/Bitcoin.csv'\n",
        "data_frame = pd.read_csv(file_path)"
      ],
      "metadata": {
        "id": "86stadsaHycm"
      },
      "execution_count": 4,
      "outputs": []
    },
    {
      "cell_type": "code",
      "source": [
        "print(\"First few rows of the dataset:\")\n",
        "print(tabulate(data_frame.head(), headers='keys', tablefmt='grid'))"
      ],
      "metadata": {
        "colab": {
          "base_uri": "https://localhost:8080/"
        },
        "id": "SpVjhraWMW8e",
        "outputId": "82e25194-a7ec-4cba-9da6-f87ba11a6b46"
      },
      "execution_count": 15,
      "outputs": [
        {
          "output_type": "stream",
          "name": "stdout",
          "text": [
            "First few rows of the dataset:\n",
            "+---------------------+---------+---------+---------+---------+-------------+-------------+--------+---------+-------+-------------+\n",
            "| Date                |    Open |    High |     Low |   Close |   Adj Close |      Volume |   Year |   Month |   Day |   DayOfWeek |\n",
            "+=====================+=========+=========+=========+=========+=============+=============+========+=========+=======+=============+\n",
            "| 2014-09-17 00:00:00 | 465.864 | 468.174 | 452.422 | 457.334 |     457.334 | 2.10568e+07 |   2014 |       9 |    17 |           2 |\n",
            "+---------------------+---------+---------+---------+---------+-------------+-------------+--------+---------+-------+-------------+\n",
            "| 2014-09-18 00:00:00 | 456.86  | 456.86  | 413.104 | 424.44  |     424.44  | 3.44832e+07 |   2014 |       9 |    18 |           3 |\n",
            "+---------------------+---------+---------+---------+---------+-------------+-------------+--------+---------+-------+-------------+\n",
            "| 2014-09-19 00:00:00 | 424.103 | 427.835 | 384.532 | 394.796 |     394.796 | 3.79197e+07 |   2014 |       9 |    19 |           4 |\n",
            "+---------------------+---------+---------+---------+---------+-------------+-------------+--------+---------+-------+-------------+\n",
            "| 2014-09-20 00:00:00 | 394.673 | 423.296 | 389.883 | 408.904 |     408.904 | 3.68636e+07 |   2014 |       9 |    20 |           5 |\n",
            "+---------------------+---------+---------+---------+---------+-------------+-------------+--------+---------+-------+-------------+\n",
            "| 2014-09-21 00:00:00 | 408.085 | 412.426 | 393.181 | 398.821 |     398.821 | 2.65801e+07 |   2014 |       9 |    21 |           6 |\n",
            "+---------------------+---------+---------+---------+---------+-------------+-------------+--------+---------+-------+-------------+\n"
          ]
        }
      ]
    },
    {
      "cell_type": "code",
      "source": [
        "data_frame['Date'] = pd.to_datetime(data_frame['Date'])\n",
        "data_frame.set_index('Date', inplace = True)\n",
        "data_frame = data_frame.sort_values('Date')\n",
        "\n",
        "data_frame = data_frame.fillna(method = 'ffill')\n",
        "\n",
        "data_frame['Year'] = data_frame.index.year\n",
        "data_frame['Month'] = data_frame.index.month\n",
        "data_frame['Day'] = data_frame.index.day\n",
        "data_frame['DayOfWeek'] = data_frame.index.dayofweek\n",
        "\n",
        "pforp = data_frame['Close'].values.reshape(-1,1)"
      ],
      "metadata": {
        "id": "L9N1XlPeIX8-"
      },
      "execution_count": 11,
      "outputs": []
    },
    {
      "cell_type": "code",
      "source": [
        "print(\"First few rows of the preprocessed dataset:\")\n",
        "print(tabulate(data_frame.head(), headers='keys', tablefmt='grid'))"
      ],
      "metadata": {
        "colab": {
          "base_uri": "https://localhost:8080/"
        },
        "id": "BqTE4y2LgAtN",
        "outputId": "e1f8af1d-55b4-471e-d688-d0d103299fbf"
      },
      "execution_count": 17,
      "outputs": [
        {
          "output_type": "stream",
          "name": "stdout",
          "text": [
            "First few rows of the preprocessed dataset:\n",
            "+---------------------+---------+---------+---------+---------+-------------+-------------+--------+---------+-------+-------------+\n",
            "| Date                |    Open |    High |     Low |   Close |   Adj Close |      Volume |   Year |   Month |   Day |   DayOfWeek |\n",
            "+=====================+=========+=========+=========+=========+=============+=============+========+=========+=======+=============+\n",
            "| 2014-09-17 00:00:00 | 465.864 | 468.174 | 452.422 | 457.334 |     457.334 | 2.10568e+07 |   2014 |       9 |    17 |           2 |\n",
            "+---------------------+---------+---------+---------+---------+-------------+-------------+--------+---------+-------+-------------+\n",
            "| 2014-09-18 00:00:00 | 456.86  | 456.86  | 413.104 | 424.44  |     424.44  | 3.44832e+07 |   2014 |       9 |    18 |           3 |\n",
            "+---------------------+---------+---------+---------+---------+-------------+-------------+--------+---------+-------+-------------+\n",
            "| 2014-09-19 00:00:00 | 424.103 | 427.835 | 384.532 | 394.796 |     394.796 | 3.79197e+07 |   2014 |       9 |    19 |           4 |\n",
            "+---------------------+---------+---------+---------+---------+-------------+-------------+--------+---------+-------+-------------+\n",
            "| 2014-09-20 00:00:00 | 394.673 | 423.296 | 389.883 | 408.904 |     408.904 | 3.68636e+07 |   2014 |       9 |    20 |           5 |\n",
            "+---------------------+---------+---------+---------+---------+-------------+-------------+--------+---------+-------+-------------+\n",
            "| 2014-09-21 00:00:00 | 408.085 | 412.426 | 393.181 | 398.821 |     398.821 | 2.65801e+07 |   2014 |       9 |    21 |           6 |\n",
            "+---------------------+---------+---------+---------+---------+-------------+-------------+--------+---------+-------+-------------+\n"
          ]
        }
      ]
    },
    {
      "cell_type": "code",
      "source": [
        "normalize = MinMaxScaler(feature_range=(0 ,1))\n",
        "normalize_price = normalize.fit_transform(pforp)"
      ],
      "metadata": {
        "id": "GbaP4_X1OujE"
      },
      "execution_count": 18,
      "outputs": []
    },
    {
      "cell_type": "code",
      "source": [
        "n_p_df = pd.DataFrame(normalize_price, columns=['Normalize close'])\n",
        "print(\"First few rows of Min-Max Normalize prices:\")\n",
        "print(tabulate(n_p_df.head(), headers='keys', tablefmt=\"grid\"))"
      ],
      "metadata": {
        "colab": {
          "base_uri": "https://localhost:8080/"
        },
        "id": "suV_Tw-Ldgj4",
        "outputId": "cd571007-26d6-44da-a102-5b87d74322e6"
      },
      "execution_count": 19,
      "outputs": [
        {
          "output_type": "stream",
          "name": "stdout",
          "text": [
            "First few rows of Min-Max Normalize prices:\n",
            "+----+-------------------+\n",
            "|    |   Normalize close |\n",
            "+====+===================+\n",
            "|  0 |        0.00414359 |\n",
            "+----+-------------------+\n",
            "|  1 |        0.00365546 |\n",
            "+----+-------------------+\n",
            "|  2 |        0.00321557 |\n",
            "+----+-------------------+\n",
            "|  3 |        0.00342492 |\n",
            "+----+-------------------+\n",
            "|  4 |        0.0032753  |\n",
            "+----+-------------------+\n"
          ]
        }
      ]
    },
    {
      "cell_type": "code",
      "source": [
        "def create_datset(dataset, look_back=60):\n",
        "  x, y = [], []\n",
        "  for i in range(len(dataset) - look_back - 1):\n",
        "    a = dataset[i:(i + look_back), 0]\n",
        "    x.append(a)\n",
        "    y.append(dataset[i + look_back, 0])\n",
        "  return np.array(x), np.array(y)\n",
        "\n",
        "look_back = 60\n",
        "x, y = create_datset(normalize_price, look_back)\n",
        "train_size = int(len(x) * 0.8)\n",
        "x_train, x_test = x[:train_size], x[train_size:]\n",
        "y_train, y_test = y[:train_size], y[train_size:]\n",
        "x_train = np.reshape(x_train, (x_train.shape[0], x_train.shape[1], 1))\n",
        "x_test = np.reshape(x_test, (x_test.shape[0], x_test.shape[1], 1))"
      ],
      "metadata": {
        "id": "4BSwW8ALnUME"
      },
      "execution_count": 20,
      "outputs": []
    },
    {
      "cell_type": "code",
      "source": [],
      "metadata": {
        "id": "tAHYmC_Bq-Zo"
      },
      "execution_count": null,
      "outputs": []
    }
  ]
}