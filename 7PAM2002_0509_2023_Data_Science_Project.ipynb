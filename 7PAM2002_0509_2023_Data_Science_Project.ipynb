{
  "nbformat": 4,
  "nbformat_minor": 0,
  "metadata": {
    "colab": {
      "provenance": [],
      "gpuType": "T4",
      "authorship_tag": "ABX9TyOyC9LcKt9cjGkY3nSG7IL5",
      "include_colab_link": true
    },
    "kernelspec": {
      "name": "python3",
      "display_name": "Python 3"
    },
    "language_info": {
      "name": "python"
    },
    "accelerator": "GPU"
  },
  "cells": [
    {
      "cell_type": "markdown",
      "metadata": {
        "id": "view-in-github",
        "colab_type": "text"
      },
      "source": [
        "<a href=\"https://colab.research.google.com/github/bm23abb/7PAM2002-0509-2023---Data-Science-Project/blob/main/7PAM2002_0509_2023_Data_Science_Project.ipynb\" target=\"_parent\"><img src=\"https://colab.research.google.com/assets/colab-badge.svg\" alt=\"Open In Colab\"/></a>"
      ]
    },
    {
      "cell_type": "code",
      "execution_count": 3,
      "metadata": {
        "colab": {
          "base_uri": "https://localhost:8080/"
        },
        "id": "cQ4HRUy2FTcJ",
        "outputId": "2ea4430b-4666-4e1e-8c53-f86de67b61bf"
      },
      "outputs": [
        {
          "output_type": "stream",
          "name": "stdout",
          "text": [
            "Mounted at /content/drive\n"
          ]
        }
      ],
      "source": [
        "from google.colab import drive\n",
        "drive.mount('/content/drive')"
      ]
    },
    {
      "cell_type": "code",
      "source": [
        "import pandas as pd\n",
        "import numpy as np\n",
        "import matplotlib.pyplot as plt\n",
        "from sklearn.preprocessing import MinMaxScaler\n",
        "from tensorflow.keras.models import Sequential\n",
        "from tensorflow.keras.layers import Dense, LSTM\n",
        "from statsmodels.tsa.arima.model import ARIMA\n",
        "from sklearn.linear_model import BayesianRidge\n",
        "from tabulate import tabulate"
      ],
      "metadata": {
        "id": "pp0jNckustAh"
      },
      "execution_count": 4,
      "outputs": []
    },
    {
      "cell_type": "code",
      "source": [
        "file_path = '/content/drive/MyDrive/7PAM2002-0509-2023-Data-Science-Project/Data-Science-Project/Bitcoin.csv'\n",
        "data_frame = pd.read_csv(file_path)"
      ],
      "metadata": {
        "id": "86stadsaHycm"
      },
      "execution_count": 5,
      "outputs": []
    },
    {
      "cell_type": "code",
      "source": [
        "print(\"First few rows of the dataset:\")\n",
        "print(tabulate(data_frame.tail(), headers='keys', tablefmt='grid'))"
      ],
      "metadata": {
        "colab": {
          "base_uri": "https://localhost:8080/"
        },
        "id": "SpVjhraWMW8e",
        "outputId": "42bbb773-4dec-472f-8b71-6f40f1577377"
      },
      "execution_count": 6,
      "outputs": [
        {
          "output_type": "stream",
          "name": "stdout",
          "text": [
            "First few rows of the dataset:\n",
            "+------+------------+---------+---------+---------+---------+-------------+-------------+\n",
            "|      | Date       |    Open |    High |     Low |   Close |   Adj Close |      Volume |\n",
            "+======+============+=========+=========+=========+=========+=============+=============+\n",
            "| 2678 | 2022-01-16 | 43172   | 43436.8 | 42691   | 43113.9 |     43113.9 | 17902097845 |\n",
            "+------+------------+---------+---------+---------+---------+-------------+-------------+\n",
            "| 2679 | 2022-01-17 | 43118.1 | 43179.4 | 41680.3 | 42250.6 |     42250.6 | 21690904261 |\n",
            "+------+------------+---------+---------+---------+---------+-------------+-------------+\n",
            "| 2680 | 2022-01-18 | 42250.1 | 42534.4 | 41392.2 | 42375.6 |     42375.6 | 22417209227 |\n",
            "+------+------------+---------+---------+---------+---------+-------------+-------------+\n",
            "| 2681 | 2022-01-19 | 42374   | 42478.3 | 41242.9 | 41744.3 |     41744.3 | 23091543258 |\n",
            "+------+------------+---------+---------+---------+---------+-------------+-------------+\n",
            "| 2682 | 2022-01-20 | 41736.5 | 42034.7 | 41724.5 | 41933.5 |     41933.5 | 23457787904 |\n",
            "+------+------------+---------+---------+---------+---------+-------------+-------------+\n"
          ]
        }
      ]
    },
    {
      "cell_type": "code",
      "source": [
        "data_frame['Date'] = pd.to_datetime(data_frame['Date'])\n",
        "data_frame.set_index('Date', inplace=True)\n",
        "data_frame = data_frame.sort_values('Date')\n",
        "data_frame = data_frame.fillna(method='ffill')\n",
        "data_frame['Year'] = data_frame.index.year\n",
        "data_frame['Month'] = data_frame.index.month\n",
        "data_frame['Day'] = data_frame.index.day\n",
        "data_frame['DayOfWeek'] = data_frame.index.dayofweek\n",
        "\n",
        "pforp = data_frame['Close'].values.reshape(-1,1)"
      ],
      "metadata": {
        "id": "L9N1XlPeIX8-"
      },
      "execution_count": 7,
      "outputs": []
    },
    {
      "cell_type": "code",
      "source": [
        "print(\"First few rows of the preprocessed dataset:\")\n",
        "print(tabulate(data_frame.tail(), headers='keys', tablefmt='grid'))"
      ],
      "metadata": {
        "colab": {
          "base_uri": "https://localhost:8080/"
        },
        "id": "BqTE4y2LgAtN",
        "outputId": "be59e3b3-12bd-4d57-890d-4fdd9917999b"
      },
      "execution_count": 8,
      "outputs": [
        {
          "output_type": "stream",
          "name": "stdout",
          "text": [
            "First few rows of the preprocessed dataset:\n",
            "+---------------------+---------+---------+---------+---------+-------------+-------------+--------+---------+-------+-------------+\n",
            "| Date                |    Open |    High |     Low |   Close |   Adj Close |      Volume |   Year |   Month |   Day |   DayOfWeek |\n",
            "+=====================+=========+=========+=========+=========+=============+=============+========+=========+=======+=============+\n",
            "| 2022-01-16 00:00:00 | 43172   | 43436.8 | 42691   | 43113.9 |     43113.9 | 1.79021e+10 |   2022 |       1 |    16 |           6 |\n",
            "+---------------------+---------+---------+---------+---------+-------------+-------------+--------+---------+-------+-------------+\n",
            "| 2022-01-17 00:00:00 | 43118.1 | 43179.4 | 41680.3 | 42250.6 |     42250.6 | 2.16909e+10 |   2022 |       1 |    17 |           0 |\n",
            "+---------------------+---------+---------+---------+---------+-------------+-------------+--------+---------+-------+-------------+\n",
            "| 2022-01-18 00:00:00 | 42250.1 | 42534.4 | 41392.2 | 42375.6 |     42375.6 | 2.24172e+10 |   2022 |       1 |    18 |           1 |\n",
            "+---------------------+---------+---------+---------+---------+-------------+-------------+--------+---------+-------+-------------+\n",
            "| 2022-01-19 00:00:00 | 42374   | 42478.3 | 41242.9 | 41744.3 |     41744.3 | 2.30915e+10 |   2022 |       1 |    19 |           2 |\n",
            "+---------------------+---------+---------+---------+---------+-------------+-------------+--------+---------+-------+-------------+\n",
            "| 2022-01-20 00:00:00 | 41736.5 | 42034.7 | 41724.5 | 41933.5 |     41933.5 | 2.34578e+10 |   2022 |       1 |    20 |           3 |\n",
            "+---------------------+---------+---------+---------+---------+-------------+-------------+--------+---------+-------+-------------+\n"
          ]
        }
      ]
    },
    {
      "cell_type": "code",
      "source": [
        "normalize = MinMaxScaler(feature_range=(0 ,1))\n",
        "normalize_price = normalize.fit_transform(pforp)"
      ],
      "metadata": {
        "id": "GbaP4_X1OujE"
      },
      "execution_count": 9,
      "outputs": []
    },
    {
      "cell_type": "code",
      "source": [
        "n_p_df = pd.DataFrame(normalize_price, columns=['Normalize close'])\n",
        "print(\"First few rows of Min-Max Normalize prices:\")\n",
        "print(tabulate(n_p_df.head(), headers='keys', tablefmt=\"grid\"))"
      ],
      "metadata": {
        "colab": {
          "base_uri": "https://localhost:8080/"
        },
        "id": "suV_Tw-Ldgj4",
        "outputId": "b11992c3-acde-46b4-a538-7afcc038708e"
      },
      "execution_count": 10,
      "outputs": [
        {
          "output_type": "stream",
          "name": "stdout",
          "text": [
            "First few rows of Min-Max Normalize prices:\n",
            "+----+-------------------+\n",
            "|    |   Normalize close |\n",
            "+====+===================+\n",
            "|  0 |        0.00414359 |\n",
            "+----+-------------------+\n",
            "|  1 |        0.00365546 |\n",
            "+----+-------------------+\n",
            "|  2 |        0.00321557 |\n",
            "+----+-------------------+\n",
            "|  3 |        0.00342492 |\n",
            "+----+-------------------+\n",
            "|  4 |        0.0032753  |\n",
            "+----+-------------------+\n"
          ]
        }
      ]
    },
    {
      "cell_type": "code",
      "source": [
        "def create_datset(dataset, look_back=60):\n",
        "  x, y = [], []\n",
        "  for i in range(len(dataset) - look_back - 1):\n",
        "    a = dataset[i:(i + look_back), 0]\n",
        "    x.append(a)\n",
        "    y.append(dataset[i + look_back, 0])\n",
        "  return np.array(x), np.array(y)\n",
        "\n",
        "look_back = 60\n",
        "x, y = create_datset(normalize_price, look_back)\n",
        "train_size = int(len(x) * 0.8)\n",
        "x_train, x_test = x[:train_size], x[train_size:]\n",
        "y_train, y_test = y[:train_size], y[train_size:]\n",
        "x_train = np.reshape(x_train, (x_train.shape[0], x_train.shape[1], 1))\n",
        "x_test = np.reshape(x_test, (x_test.shape[0], x_test.shape[1], 1))"
      ],
      "metadata": {
        "id": "4BSwW8ALnUME"
      },
      "execution_count": 11,
      "outputs": []
    },
    {
      "cell_type": "code",
      "source": [
        "model = Sequential()\n",
        "model.add(LSTM(50, return_sequences = True, input_shape=(look_back, 1)))\n",
        "model.add(LSTM(50, return_sequences = False))\n",
        "model.add(Dense(25))\n",
        "model.add(Dense(1))\n",
        "model.compile(optimizer='adam', loss='mean_squared_error')\n",
        "model.fit(x_train, y_train, batch_size=1, epochs=1)"
      ],
      "metadata": {
        "colab": {
          "base_uri": "https://localhost:8080/"
        },
        "id": "tAHYmC_Bq-Zo",
        "outputId": "dfed6f58-682b-4d2a-f2a2-8fcc2d792165"
      },
      "execution_count": 12,
      "outputs": [
        {
          "output_type": "stream",
          "name": "stdout",
          "text": [
            "2097/2097 [==============================] - 41s 16ms/step - loss: 1.8404e-04\n"
          ]
        },
        {
          "output_type": "execute_result",
          "data": {
            "text/plain": [
              "<keras.src.callbacks.History at 0x7e180c1b76d0>"
            ]
          },
          "metadata": {},
          "execution_count": 12
        }
      ]
    },
    {
      "cell_type": "code",
      "source": [
        "future_date = 7\n",
        "future_input = normalize_price[-look_back:]\n",
        "future_predict_lstm = []\n",
        "for _ in range(future_date):\n",
        "    future_input_reshaped = np.reshape(future_input, (1, look_back, 1))\n",
        "    future_predict = model.predict(future_input_reshaped)\n",
        "    future_predict_lstm.append(future_predict[0, 0])\n",
        "    future_input = np.append(future_input[1:], future_predict)\n",
        "\n",
        "future_predict_lstm = normalize.inverse_transform(np.array(future_predict_lstm).reshape(-1, 1))\n",
        "\n",
        "future_dates = pd.date_range(start=data_frame.index[-1] + pd.DateOffset(days=1), periods=future_date, freq='D')\n"
      ],
      "metadata": {
        "colab": {
          "base_uri": "https://localhost:8080/"
        },
        "id": "cGKbfeMNs5bH",
        "outputId": "37e43fd5-1cef-45d9-acbb-3c992408fe03"
      },
      "execution_count": 32,
      "outputs": [
        {
          "output_type": "stream",
          "name": "stdout",
          "text": [
            "1/1 [==============================] - 0s 38ms/step\n",
            "1/1 [==============================] - 0s 38ms/step\n",
            "1/1 [==============================] - 0s 39ms/step\n",
            "1/1 [==============================] - 0s 33ms/step\n",
            "1/1 [==============================] - 0s 39ms/step\n",
            "1/1 [==============================] - 0s 34ms/step\n",
            "1/1 [==============================] - 0s 42ms/step\n"
          ]
        }
      ]
    },
    {
      "cell_type": "code",
      "source": [
        "lstm_predict_df = pd.DataFrame({\n",
        "        'Date': future_dates,\n",
        "        'LSTM_Prediction': future_predict_lstm.flatten()\n",
        "    })\n",
        "print(\"LSTM Predictions for the next '7' days:\")\n",
        "print(tabulate(lstm_predict_df, headers='keys', tablefmt='grid'))"
      ],
      "metadata": {
        "colab": {
          "base_uri": "https://localhost:8080/"
        },
        "id": "JE69tPU_x_QT",
        "outputId": "eab032d0-0b21-452e-963d-7351a80c6871"
      },
      "execution_count": 34,
      "outputs": [
        {
          "output_type": "stream",
          "name": "stdout",
          "text": [
            "LSTM Predictions for the next '7' days:\n",
            "+----+---------------------+-------------------+\n",
            "|    | Date                |   LSTM_Prediction |\n",
            "+====+=====================+===================+\n",
            "|  0 | 2022-01-21 00:00:00 |           38608.9 |\n",
            "+----+---------------------+-------------------+\n",
            "|  1 | 2022-01-22 00:00:00 |           37683.5 |\n",
            "+----+---------------------+-------------------+\n",
            "|  2 | 2022-01-23 00:00:00 |           36527.9 |\n",
            "+----+---------------------+-------------------+\n",
            "|  3 | 2022-01-24 00:00:00 |           35281.5 |\n",
            "+----+---------------------+-------------------+\n",
            "|  4 | 2022-01-25 00:00:00 |           34015.2 |\n",
            "+----+---------------------+-------------------+\n",
            "|  5 | 2022-01-26 00:00:00 |           32766.8 |\n",
            "+----+---------------------+-------------------+\n",
            "|  6 | 2022-01-27 00:00:00 |           31557.9 |\n",
            "+----+---------------------+-------------------+\n"
          ]
        }
      ]
    },
    {
      "cell_type": "code",
      "source": [
        "arima_model = ARIMA(pforp, order=(5, 1, 0))\n",
        "arima_result = arima_model.fit()\n",
        "arima_forecast = arima_result.forecast(steps=future_date).reshape(-1, 1)"
      ],
      "metadata": {
        "id": "zjcG2yKH98bN"
      },
      "execution_count": 35,
      "outputs": []
    },
    {
      "cell_type": "code",
      "source": [
        "arime_predict_df = pd.DataFrame({\n",
        "        'Date': future_dates,\n",
        "         'ARIMA_Predictions':arima_forecast.flatten()\n",
        "    })\n",
        "print(\"ARIMA Predictions for the next '7' days:\")\n",
        "print(tabulate(arime_predict_df, headers='keys', tablefmt='grid'))"
      ],
      "metadata": {
        "colab": {
          "base_uri": "https://localhost:8080/"
        },
        "id": "dEYApBq0-kAl",
        "outputId": "a861ce3c-0c46-4afd-9d9c-cba38be041ef"
      },
      "execution_count": 41,
      "outputs": [
        {
          "output_type": "stream",
          "name": "stdout",
          "text": [
            "ARIMA Predictions for the next '7' days:\n",
            "+----+---------------------+---------------------+\n",
            "|    | Date                |   ARIMA_Predictions |\n",
            "+====+=====================+=====================+\n",
            "|  0 | 2022-01-21 00:00:00 |             41880.9 |\n",
            "+----+---------------------+---------------------+\n",
            "|  1 | 2022-01-22 00:00:00 |             41861.5 |\n",
            "+----+---------------------+---------------------+\n",
            "|  2 | 2022-01-23 00:00:00 |             41835.8 |\n",
            "+----+---------------------+---------------------+\n",
            "|  3 | 2022-01-24 00:00:00 |             41829.3 |\n",
            "+----+---------------------+---------------------+\n",
            "|  4 | 2022-01-25 00:00:00 |             41831.4 |\n",
            "+----+---------------------+---------------------+\n",
            "|  5 | 2022-01-26 00:00:00 |             41828.7 |\n",
            "+----+---------------------+---------------------+\n",
            "|  6 | 2022-01-27 00:00:00 |             41827   |\n",
            "+----+---------------------+---------------------+\n"
          ]
        }
      ]
    },
    {
      "cell_type": "code",
      "source": [
        "bayesian_model = BayesianRidge()\n",
        "bayesian_model.fit(np.arange(len(pforp)).reshape(-1, 1), pforp.flatten())\n",
        "future_in = np.arange(len(pforp), len(pforp) + future_date).reshape(-1, 1)\n",
        "bayesian_forcest = bayesian_model.predict(future_in).reshape(-1, 1)"
      ],
      "metadata": {
        "id": "VedQSimYHTEd"
      },
      "execution_count": 39,
      "outputs": []
    },
    {
      "cell_type": "code",
      "source": [
        "bayesian_predict_df = pd.DataFrame({\n",
        "        'Date': future_dates,\n",
        "        'BayesianRidge_Prediction': bayesian_forcest.flatten()\n",
        "    })\n",
        "print(\"BayesianRidge Predictions for the next '7' days:\")\n",
        "print(tabulate(bayesian_predict_df, headers='keys', tablefmt='grid'))"
      ],
      "metadata": {
        "colab": {
          "base_uri": "https://localhost:8080/"
        },
        "id": "ZhP2rrO8JDcA",
        "outputId": "d8f036a5-63cb-47e6-f41c-4195465e8fbc"
      },
      "execution_count": 40,
      "outputs": [
        {
          "output_type": "stream",
          "name": "stdout",
          "text": [
            "BayesianRidge Predictions for the next '7' days:\n",
            "+----+---------------------+----------------------------+\n",
            "|    | Date                |   BayesianRidge_Prediction |\n",
            "+====+=====================+============================+\n",
            "|  0 | 2022-01-21 00:00:00 |                    31708.9 |\n",
            "+----+---------------------+----------------------------+\n",
            "|  1 | 2022-01-22 00:00:00 |                    31724.3 |\n",
            "+----+---------------------+----------------------------+\n",
            "|  2 | 2022-01-23 00:00:00 |                    31739.7 |\n",
            "+----+---------------------+----------------------------+\n",
            "|  3 | 2022-01-24 00:00:00 |                    31755.2 |\n",
            "+----+---------------------+----------------------------+\n",
            "|  4 | 2022-01-25 00:00:00 |                    31770.6 |\n",
            "+----+---------------------+----------------------------+\n",
            "|  5 | 2022-01-26 00:00:00 |                    31786   |\n",
            "+----+---------------------+----------------------------+\n",
            "|  6 | 2022-01-27 00:00:00 |                    31801.5 |\n",
            "+----+---------------------+----------------------------+\n"
          ]
        }
      ]
    },
    {
      "cell_type": "code",
      "source": [
        "plt.figure(figsize=(14, 7))\n",
        "\n",
        "bar_width = 0.25\n",
        "index = np.arange(len(future_dates))\n",
        "\n",
        "# Bar plot for LSTM predictions\n",
        "plt.bar(index, future_predict_lstm.flatten(), bar_width, label='LSTM Predictions')\n",
        "\n",
        "# Bar plot for ARIMA predictions\n",
        "plt.bar(index + bar_width, arima_forecast.flatten(), bar_width, label='ARIMA Predictions')\n",
        "\n",
        "# Bar plot for Bayesian Ridge predictions\n",
        "plt.bar(index + 2 * bar_width, bayesian_forcest.flatten(), bar_width, label='Bayesian Ridge Predictions')\n",
        "\n",
        "# Plot settings\n",
        "plt.xlabel('Date')\n",
        "plt.ylabel('Bitcoin Price')\n",
        "plt.title('Bitcoin Price Predictions for the Next 7 Days')\n",
        "plt.xticks(index + bar_width, future_dates.strftime('%Y-%m-%d'), rotation=45)\n",
        "plt.legend()\n",
        "plt.tight_layout()\n",
        "plt.show()\n"
      ],
      "metadata": {
        "colab": {
          "base_uri": "https://localhost:8080/",
          "height": 337
        },
        "id": "qbbDkcdDKp0S",
        "outputId": "8917e171-7fbe-4170-c6ca-02efc100501c"
      },
      "execution_count": 44,
      "outputs": [
        {
          "output_type": "display_data",
          "data": {
            "text/plain": [
              "<Figure size 1400x700 with 1 Axes>"
            ],
            "image/png": "[encoded data removed]"
          },
          "metadata": {}
        }
      ]
    }
  ]
}